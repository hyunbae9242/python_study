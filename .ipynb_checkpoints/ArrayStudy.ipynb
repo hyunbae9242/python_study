{
 "cells": [
  {
   "cell_type": "code",
   "execution_count": 6,
   "metadata": {
    "collapsed": true,
    "ExecuteTime": {
     "end_time": "2023-08-05T08:19:42.615250400Z",
     "start_time": "2023-08-05T08:19:42.612256300Z"
    }
   },
   "outputs": [
    {
     "name": "stdout",
     "output_type": "stream",
     "text": [
      "[[6 8 9 4]\n",
      " [0 1 1 5]\n",
      " [4 7 5 1]]\n",
      "[0 1 2 3 4 5 6 7 8]\n",
      "[0 1 2 3 4 5 6 7 8]\n",
      "[[0 1 2]\n",
      " [3 4 5]\n",
      " [6 7 8]]\n"
     ]
    }
   ],
   "source": [
    "import numpy as np\n",
    "\n",
    "i = np.random.randint(10, size=(3,4))\n",
    "print(i)\n",
    "\n",
    "# arange()\n",
    "print(np.arange(9))\n",
    "i2 = np.arange(9)\n",
    "print(i2)\n",
    "i3 = np.arange(9).reshape(3,3)\n",
    "print(i3)"
   ]
  }
 ],
 "metadata": {
  "kernelspec": {
   "display_name": "Python 3",
   "language": "python",
   "name": "python3"
  },
  "language_info": {
   "codemirror_mode": {
    "name": "ipython",
    "version": 2
   },
   "file_extension": ".py",
   "mimetype": "text/x-python",
   "name": "python",
   "nbconvert_exporter": "python",
   "pygments_lexer": "ipython2",
   "version": "2.7.6"
  }
 },
 "nbformat": 4,
 "nbformat_minor": 0
}
