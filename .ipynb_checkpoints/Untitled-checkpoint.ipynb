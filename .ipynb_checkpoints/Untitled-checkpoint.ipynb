{
 "cells": [
  {
   "cell_type": "code",
   "execution_count": 3,
   "id": "aa9e9a2f",
   "metadata": {
    "ExecuteTime": {
     "end_time": "2023-07-15T02:50:58.807934400Z",
     "start_time": "2023-07-15T02:50:58.768435200Z"
    }
   },
   "outputs": [
    {
     "name": "stdout",
     "output_type": "stream",
     "text": [
      "8\n"
     ]
    }
   ],
   "source": [
    "print(3+5)"
   ]
  },
  {
   "cell_type": "code",
   "execution_count": 18,
   "outputs": [
    {
     "name": "stdout",
     "output_type": "stream",
     "text": [
      "\n"
     ]
    }
   ],
   "source": [
    "str = \"Life is to short\"\n",
    "\n",
    "#한글자씩 건너띄어서\n",
    "print(str[2:14:-2])"
   ],
   "metadata": {
    "collapsed": false,
    "ExecuteTime": {
     "end_time": "2023-07-15T06:47:13.875979700Z",
     "start_time": "2023-07-15T06:47:13.873021400Z"
    }
   }
  },
  {
   "cell_type": "code",
   "execution_count": 24,
   "outputs": [
    {
     "name": "stdout",
     "output_type": "stream",
     "text": [
      "i\n",
      "python\n"
     ]
    }
   ],
   "source": [
    "str1 = \"pithon\"\n",
    "print(str1[1])\n",
    "#str1[1] = 'y'\n",
    "str1 = str1.replace(\"i\",\"y\")\n",
    "print(str1)"
   ],
   "metadata": {
    "collapsed": false,
    "ExecuteTime": {
     "end_time": "2023-07-15T06:51:06.779668Z",
     "start_time": "2023-07-15T06:51:06.775096100Z"
    }
   }
  },
  {
   "cell_type": "code",
   "execution_count": 35,
   "outputs": [
    {
     "name": "stdout",
     "output_type": "stream",
     "text": [
      "나의 이름은 김현배이고 나이는 31살 입니다.\n",
      "나의 나이는 31살 입니다.\n"
     ]
    }
   ],
   "source": [
    "# 문자열 표현하지 : 문자열 포매팅\n",
    "# 나의 이름은 김현배 이고 나이는 31살 입니다.\n",
    "name = \"김현배\"\n",
    "age = 31\n",
    "str1 = \"나의 이름은 %s이고 나이는 %d살 입니다.\" %(name,age)\n",
    "\n",
    "print(str1)\n",
    "str2 = '나의 나이는 %d살 입니다.' % age\n",
    "print(str2)"
   ],
   "metadata": {
    "collapsed": false,
    "ExecuteTime": {
     "end_time": "2023-07-15T07:00:35.805169600Z",
     "start_time": "2023-07-15T07:00:35.799813100Z"
    }
   }
  },
  {
   "cell_type": "code",
   "execution_count": 38,
   "outputs": [
    {
     "name": "stdout",
     "output_type": "stream",
     "text": [
      "김현배의 계좌번호는 1234 이고 잔액은 1203012032132입니다.\n"
     ]
    }
   ],
   "source": [
    "# 김현배의 계좌번호는 1234 이고 잔액은 102030120입니다.\n",
    "name = '김현배'\n",
    "account = '1234'\n",
    "amount = 1203012032132\n",
    "str1 = '%s의 계좌번호는 %s 이고 잔액은 %d입니다.' \\\n",
    "       %(name,account,amount)\n",
    "\n",
    "print(str1)"
   ],
   "metadata": {
    "collapsed": false,
    "ExecuteTime": {
     "end_time": "2023-07-15T07:08:25.741749800Z",
     "start_time": "2023-07-15T07:08:25.735176200Z"
    }
   }
  },
  {
   "cell_type": "code",
   "execution_count": 45,
   "outputs": [
    {
     "name": "stdout",
     "output_type": "stream",
     "text": [
      "김현배의 나이는 31 살이고 키는 173.5 입니다\n"
     ]
    }
   ],
   "source": [
    "# 김현배의 나이는 31 살이고 키는 173.4 입니다\n",
    "name = '김현배'\n",
    "age = 31\n",
    "height = 173.5\n",
    "str3 = '%s의 나이는 %d 살이고 키는 %.1f 입니다' \\\n",
    "       %(name, age, height)\n",
    "\n",
    "print(str3)"
   ],
   "metadata": {
    "collapsed": false,
    "ExecuteTime": {
     "end_time": "2023-07-15T07:41:32.460327300Z",
     "start_time": "2023-07-15T07:41:32.454567900Z"
    }
   }
  },
  {
   "cell_type": "code",
   "execution_count": 48,
   "outputs": [
    {
     "name": "stdout",
     "output_type": "stream",
     "text": [
      "김현배 님의 나이는 31살이고 키는 178입니다.\n",
      "김현배 님의 나이는 31살이고, 김현배 님의 키는 178입니다.\n"
     ]
    }
   ],
   "source": [
    "name = '김현배'\n",
    "age = 31\n",
    "height = 178\n",
    "str1 = '{0} 님의 나이는 {1}살이고 키는 {2}입니다.'\\\n",
    "    .format(name,age,height)\n",
    "\n",
    "print(str1)\n",
    "\n",
    "str1 = '{0} 님의 나이는 {1}살이고, {0} 님의 키는 {2}입니다.'\\\n",
    "    .format(name,age,height)\n",
    "\n",
    "print(str1)"
   ],
   "metadata": {
    "collapsed": false,
    "ExecuteTime": {
     "end_time": "2023-07-15T08:01:29.333977300Z",
     "start_time": "2023-07-15T08:01:29.327807500Z"
    }
   }
  },
  {
   "cell_type": "code",
   "execution_count": 50,
   "outputs": [
    {
     "name": "stdout",
     "output_type": "stream",
     "text": [
      "김현배의 나이는 31이고 나이는 178입니다\n"
     ]
    }
   ],
   "source": [
    "# f문자 이용한 포맷팅\n",
    "\n",
    "name = '김현배'\n",
    "age = 31\n",
    "height = 178\n",
    "\n",
    "str4 = f\"{name}의 나이는 {age}이고 나이는 {height}입니다\"\n",
    "print(str4)"
   ],
   "metadata": {
    "collapsed": false,
    "ExecuteTime": {
     "end_time": "2023-07-15T08:03:06.273534700Z",
     "start_time": "2023-07-15T08:03:06.267872200Z"
    }
   }
  },
  {
   "cell_type": "code",
   "execution_count": 53,
   "outputs": [
    {
     "name": "stdout",
     "output_type": "stream",
     "text": [
      "LIFE IS TOO SHORT\n"
     ]
    }
   ],
   "source": [
    "# 대소문자 컨버팅\n",
    "\n",
    "str5 = 'life is too short'\n",
    "print(str5.upper())"
   ],
   "metadata": {
    "collapsed": false,
    "ExecuteTime": {
     "end_time": "2023-07-15T08:06:17.108774100Z",
     "start_time": "2023-07-15T08:06:17.101531200Z"
    }
   }
  },
  {
   "cell_type": "code",
   "execution_count": 57,
   "outputs": [
    {
     "name": "stdout",
     "output_type": "stream",
     "text": [
      "7\n",
      "1\n"
     ]
    }
   ],
   "source": [
    "# 문자열 가공 : 문자열 함수\n",
    "a = 'hyunbae'\n",
    "# 문자의 길이\n",
    "print(len(a))\n",
    "\n",
    "# 특정 문자의 갯수\n",
    "print(a.count('b'))"
   ],
   "metadata": {
    "collapsed": false,
    "ExecuteTime": {
     "end_time": "2023-07-15T08:44:58.355523200Z",
     "start_time": "2023-07-15T08:44:58.350936300Z"
    }
   }
  },
  {
   "cell_type": "code",
   "execution_count": 60,
   "outputs": [
    {
     "name": "stdout",
     "output_type": "stream",
     "text": [
      "-1\n"
     ]
    }
   ],
   "source": [
    "a = 'hyunbae'\n",
    "\n",
    "#print(a.index('k'))\n",
    "print(a.find('k'))"
   ],
   "metadata": {
    "collapsed": false,
    "ExecuteTime": {
     "end_time": "2023-07-15T08:51:41.057660200Z",
     "start_time": "2023-07-15T08:51:41.036238600Z"
    }
   }
  },
  {
   "cell_type": "code",
   "execution_count": 62,
   "outputs": [
    {
     "name": "stdout",
     "output_type": "stream",
     "text": [
      "hyunbae\n"
     ]
    }
   ],
   "source": [
    "# 대문자를 소문자로\n",
    "a= 'hyunbae'\n",
    "print(a.lower())"
   ],
   "metadata": {
    "collapsed": false,
    "ExecuteTime": {
     "end_time": "2023-07-15T09:01:56.575828Z",
     "start_time": "2023-07-15T09:01:56.562548Z"
    }
   }
  },
  {
   "cell_type": "code",
   "execution_count": 65,
   "outputs": [
    {
     "name": "stdout",
     "output_type": "stream",
     "text": [
      "같다\n",
      "                     str            \n",
      "str\n",
      "                     str\n",
      "str            \n"
     ]
    }
   ],
   "source": [
    "# 공백문자 제거하기\n",
    "str3 = \"                     str            \"\n",
    "result = str3.strip() # 양쪽 공백 삭제\n",
    "if result == 'str':\n",
    "    print('같다')\n",
    "print(str3)\n",
    "print(result)\n",
    "print(str3.rstrip()) # 오른쪽 공백 삭제\n",
    "print(str3.lstrip()) # 왼족 공백 삭제"
   ],
   "metadata": {
    "collapsed": false,
    "ExecuteTime": {
     "end_time": "2023-07-15T09:06:17.488354900Z",
     "start_time": "2023-07-15T09:06:17.485273200Z"
    }
   }
  },
  {
   "cell_type": "code",
   "execution_count": 69,
   "outputs": [
    {
     "name": "stdout",
     "output_type": "stream",
     "text": [
      "Life is too short\n",
      "Your leg is too short\n",
      "Life is too short\n",
      "['Life', 'is', 'too', 'short']\n",
      "Life:is:too:short\n",
      "['Life', 'is', 'too', 'short']\n"
     ]
    }
   ],
   "source": [
    "# 문자 대체하기\n",
    "str1 = \"Life is too short\"\n",
    "result = str1.replace('Life', 'Your leg')\n",
    "print(str1)\n",
    "print(result)\n",
    "\n",
    "# 쪼개기\n",
    "str1 = \"Life is too short\"\n",
    "result = str1.split()\n",
    "print(str1)\n",
    "print(result)\n",
    "\n",
    "str1 = \"Life:is:too:short\"\n",
    "result = str1.split(':')\n",
    "print(str1)\n",
    "print(result)\n",
    "\n",
    "# ['Life', 'is', 'too', 'short'] => list 자료형"
   ],
   "metadata": {
    "collapsed": false,
    "ExecuteTime": {
     "end_time": "2023-07-15T09:14:42.459504900Z",
     "start_time": "2023-07-15T09:14:42.449616100Z"
    }
   }
  }
 ],
 "metadata": {
  "kernelspec": {
   "display_name": "Python 3 (ipykernel)",
   "language": "python",
   "name": "python3"
  },
  "language_info": {
   "codemirror_mode": {
    "name": "ipython",
    "version": 3
   },
   "file_extension": ".py",
   "mimetype": "text/x-python",
   "name": "python",
   "nbconvert_exporter": "python",
   "pygments_lexer": "ipython3",
   "version": "3.11.4"
  }
 },
 "nbformat": 4,
 "nbformat_minor": 5
}
